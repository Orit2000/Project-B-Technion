{
 "cells": [
  {
   "cell_type": "code",
   "execution_count": 5,
   "id": "d0b2730a",
   "metadata": {},
   "outputs": [
    {
     "name": "stdout",
     "output_type": "stream",
     "text": [
      "The autoreload extension is already loaded. To reload it, use:\n",
      "  %reload_ext autoreload\n"
     ]
    },
    {
     "data": {
      "application/javascript": "IPython.notebook.set_autosave_interval(180000)"
     },
     "metadata": {},
     "output_type": "display_data"
    },
    {
     "name": "stdout",
     "output_type": "stream",
     "text": [
      "Autosaving every 180 seconds\n"
     ]
    }
   ],
   "source": [
    "import numpy as np\n",
    "import pandas as pd\n",
    "from matplotlib import pyplot as plt\n",
    "import dt2_data\n",
    "import argument\n",
    "import experiment\n",
    "%load_ext autoreload\n",
    "%autoreload 2\n",
    "%reload_ext autoreload\n",
    "%autosave 180"
   ]
  },
  {
   "cell_type": "code",
   "execution_count": 18,
   "id": "05b13be1",
   "metadata": {},
   "outputs": [],
   "source": [
    "import torch\n",
    "torch.cuda.empty_cache()"
   ]
  },
  {
   "cell_type": "code",
   "execution_count": 6,
   "id": "2f08e36e",
   "metadata": {},
   "outputs": [
    {
     "name": "stdout",
     "output_type": "stream",
     "text": [
      "device: cpu\n",
      "n32_e035_1arc_v3\n",
      "50\n",
      "n32_e035_1arc_v3\n",
      "from run_kcn: n32_e035_1arc_v3\n",
      "[DEBUG] Using dt2_file path: ./datasets\\n32_e035_1arc_v3.dt2\n",
      "Loading cached sets...\n",
      "The n32_e035_1arc_v3 dataset has 103737 training instances and 25935 test instances.\n"
     ]
    },
    {
     "ename": "AttributeError",
     "evalue": "'Namespace' object has no attribute 'save_path'",
     "output_type": "error",
     "traceback": [
      "\u001b[31m---------------------------------------------------------------------------\u001b[39m",
      "\u001b[31mAttributeError\u001b[39m                            Traceback (most recent call last)",
      "\u001b[36mCell\u001b[39m\u001b[36m \u001b[39m\u001b[32mIn[6]\u001b[39m\u001b[32m, line 8\u001b[39m\n\u001b[32m      6\u001b[39m \u001b[38;5;28mprint\u001b[39m(args.dataset)\n\u001b[32m      7\u001b[39m args.model = \u001b[33m'\u001b[39m\u001b[33mkcn\u001b[39m\u001b[33m'\u001b[39m\n\u001b[32m----> \u001b[39m\u001b[32m8\u001b[39m err = \u001b[43mexperiment\u001b[49m\u001b[43m.\u001b[49m\u001b[43mrun_kcn\u001b[49m\u001b[43m(\u001b[49m\u001b[43margs\u001b[49m\u001b[43m)\u001b[49m\n\u001b[32m      9\u001b[39m \u001b[38;5;28mprint\u001b[39m(\u001b[33m'\u001b[39m\u001b[33mModel: \u001b[39m\u001b[38;5;132;01m{}\u001b[39;00m\u001b[33m, test error: \u001b[39m\u001b[38;5;132;01m{}\u001b[39;00m\u001b[38;5;130;01m\\n\u001b[39;00m\u001b[33m'\u001b[39m.format(args.model, err))\n",
      "\u001b[36mFile \u001b[39m\u001b[32mc:\\Users\\ORITMI\\OneDrive - Rafael\\Project B - Alon Asaf Orit\\kcn-torch-master\\Project-B-Technion\\kcn-torch-master\\experiment.py:58\u001b[39m, in \u001b[36mrun_kcn\u001b[39m\u001b[34m(args)\u001b[39m\n\u001b[32m     52\u001b[39m num_train = num_total_train - num_valid\n\u001b[32m     53\u001b[39m \u001b[38;5;66;03m# initialize a kcn model\u001b[39;00m\n\u001b[32m     54\u001b[39m \u001b[38;5;66;03m# 1) the entire training set including validation points are recorded by the model and will \u001b[39;00m\n\u001b[32m     55\u001b[39m \u001b[38;5;66;03m# be looked up in neighbor searches\u001b[39;00m\n\u001b[32m     56\u001b[39m \u001b[38;5;66;03m# 2) the model will pre-compute neighbors for a training or validation instance to avoid repeated neighbor search\u001b[39;00m\n\u001b[32m     57\u001b[39m \u001b[38;5;66;03m# 3) if a data point appears in training set and validation set, its neighbors does not include itself\u001b[39;00m\n\u001b[32m---> \u001b[39m\u001b[32m58\u001b[39m model = \u001b[43mkcn\u001b[49m\u001b[43m.\u001b[49m\u001b[43mKCN\u001b[49m\u001b[43m(\u001b[49m\u001b[43mtrainset\u001b[49m\u001b[43m,\u001b[49m\u001b[43m \u001b[49m\u001b[43margs\u001b[49m\u001b[43m)\u001b[49m\n\u001b[32m     59\u001b[39m model = model.to(args.device)\n\u001b[32m     61\u001b[39m loss_func = torch.nn.MSELoss(reduction=\u001b[33m'\u001b[39m\u001b[33mmean\u001b[39m\u001b[33m'\u001b[39m)\n",
      "\u001b[36mFile \u001b[39m\u001b[32mc:\\Users\\ORITMI\\OneDrive - Rafael\\Project B - Alon Asaf Orit\\kcn-torch-master\\Project-B-Technion\\kcn-torch-master\\kcn.py:14\u001b[39m, in \u001b[36mKCN.__init__\u001b[39m\u001b[34m(self, trainset, args)\u001b[39m\n\u001b[32m     12\u001b[39m \u001b[38;5;28;01mdef\u001b[39;00m\u001b[38;5;250m \u001b[39m\u001b[34m__init__\u001b[39m(\u001b[38;5;28mself\u001b[39m, trainset, args) -> \u001b[38;5;28;01mNone\u001b[39;00m:\n\u001b[32m     13\u001b[39m     \u001b[38;5;28msuper\u001b[39m(KCN, \u001b[38;5;28mself\u001b[39m).\u001b[34m__init__\u001b[39m()\n\u001b[32m---> \u001b[39m\u001b[32m14\u001b[39m     \u001b[43msave_metadata\u001b[49m\u001b[43m(\u001b[49m\u001b[43margs\u001b[49m\u001b[43m,\u001b[49m\u001b[43m \u001b[49m\u001b[43mtrainset\u001b[49m\u001b[43m.\u001b[49m\u001b[43my_mean\u001b[49m\u001b[43m,\u001b[49m\u001b[43m \u001b[49m\u001b[43mtrainset\u001b[49m\u001b[43m.\u001b[49m\u001b[43my_std\u001b[49m\u001b[43m)\u001b[49m\n\u001b[32m     15\u001b[39m     \u001b[38;5;28mself\u001b[39m.trainset = trainset\n\u001b[32m     16\u001b[39m     cache_path = \u001b[33mf\u001b[39m\u001b[33m\"\u001b[39m\u001b[33mcache/graph_inputs_\u001b[39m\u001b[38;5;132;01m{\u001b[39;00margs.dataset\u001b[38;5;132;01m}\u001b[39;00m\u001b[33m_k\u001b[39m\u001b[38;5;132;01m{\u001b[39;00margs.n_neighbors\u001b[38;5;132;01m}\u001b[39;00m\u001b[33m_keep_n\u001b[39m\u001b[38;5;132;01m{\u001b[39;00margs.keep_n\u001b[38;5;132;01m}\u001b[39;00m\u001b[33m.pt\u001b[39m\u001b[33m\"\u001b[39m\n",
      "\u001b[36mFile \u001b[39m\u001b[32mc:\\Users\\ORITMI\\OneDrive - Rafael\\Project B - Alon Asaf Orit\\kcn-torch-master\\Project-B-Technion\\kcn-torch-master\\kcn.py:270\u001b[39m, in \u001b[36msave_metadata\u001b[39m\u001b[34m(args, y_mean, y_std)\u001b[39m\n\u001b[32m    269\u001b[39m \u001b[38;5;28;01mdef\u001b[39;00m\u001b[38;5;250m \u001b[39m\u001b[34msave_metadata\u001b[39m(args, y_mean, y_std):\n\u001b[32m--> \u001b[39m\u001b[32m270\u001b[39m     os.makedirs(\u001b[43margs\u001b[49m\u001b[43m.\u001b[49m\u001b[43msave_path\u001b[49m, exist_ok=\u001b[38;5;28;01mTrue\u001b[39;00m)\n\u001b[32m    271\u001b[39m     save_path = os.path.join(args.save_path, \u001b[33mf\u001b[39m\u001b[33m\"\u001b[39m\u001b[38;5;132;01m{\u001b[39;00margs.model\u001b[38;5;132;01m}\u001b[39;00m\u001b[33m_\u001b[39m\u001b[38;5;132;01m{\u001b[39;00margs.dataset\u001b[38;5;132;01m}\u001b[39;00m\u001b[33m_metadata.pt\u001b[39m\u001b[33m\"\u001b[39m)\n\u001b[32m    273\u001b[39m     shared_info = {\n\u001b[32m    274\u001b[39m     \u001b[33m'\u001b[39m\u001b[33margs\u001b[39m\u001b[33m'\u001b[39m: \u001b[38;5;28mvars\u001b[39m(args),\n\u001b[32m    275\u001b[39m     \u001b[33m'\u001b[39m\u001b[33my_mean\u001b[39m\u001b[33m'\u001b[39m: y_mean,\n\u001b[32m    276\u001b[39m     \u001b[33m'\u001b[39m\u001b[33my_std\u001b[39m\u001b[33m'\u001b[39m: y_std,\n\u001b[32m    277\u001b[39m     }\n",
      "\u001b[31mAttributeError\u001b[39m: 'Namespace' object has no attribute 'save_path'"
     ]
    }
   ],
   "source": [
    "args = argument.parse_opt()\n",
    "args.keep_n = 0.005*2\n",
    "print(args.dataset)\n",
    "print(args.n_neighbors)\n",
    "args.dataset = \"n32_e035_1arc_v3\"\n",
    "print(args.dataset)\n",
    "args.model = 'kcn'\n",
    "err = experiment.run_kcn(args)\n",
    "print('Model: {}, test error: {}\\n'.format(args.model, err))\n"
   ]
  }
 ],
 "metadata": {
  "kernelspec": {
   "display_name": "Python 3",
   "language": "python",
   "name": "python3"
  },
  "language_info": {
   "codemirror_mode": {
    "name": "ipython",
    "version": 3
   },
   "file_extension": ".py",
   "mimetype": "text/x-python",
   "name": "python",
   "nbconvert_exporter": "python",
   "pygments_lexer": "ipython3",
   "version": "3.13.0"
  }
 },
 "nbformat": 4,
 "nbformat_minor": 5
}
