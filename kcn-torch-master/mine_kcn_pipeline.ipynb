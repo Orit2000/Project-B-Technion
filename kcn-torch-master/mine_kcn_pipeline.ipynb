{
 "cells": [
  {
   "cell_type": "code",
   "execution_count": 1,
   "metadata": {},
   "outputs": [],
   "source": [
    "import numpy as np\n",
    "import pandas as pd\n",
    "from matplotlib import pyplot as plt\n",
    "import dt2_data\n",
    "import argument"
   ]
  },
  {
   "cell_type": "code",
   "execution_count": 2,
   "metadata": {},
   "outputs": [],
   "source": [
    "import experiment"
   ]
  },
  {
   "cell_type": "code",
   "execution_count": 3,
   "metadata": {},
   "outputs": [
    {
     "name": "stdout",
     "output_type": "stream",
     "text": [
      "The n32_e035_1arc_v3 dataset has 10373760 training instances and 2593441 test instances.\n",
      "Length scale is set to 0.000278472900390625\n"
     ]
    },
    {
     "ename": "KeyboardInterrupt",
     "evalue": "",
     "output_type": "error",
     "traceback": [
      "\u001b[1;31m---------------------------------------------------------------------------\u001b[0m",
      "\u001b[1;31mKeyboardInterrupt\u001b[0m                         Traceback (most recent call last)",
      "Cell \u001b[1;32mIn[3], line 4\u001b[0m\n\u001b[0;32m      2\u001b[0m args\u001b[38;5;241m.\u001b[39mdataset \u001b[38;5;241m=\u001b[39m \u001b[38;5;124m\"\u001b[39m\u001b[38;5;124mn32_e035_1arc_v3\u001b[39m\u001b[38;5;124m\"\u001b[39m\n\u001b[0;32m      3\u001b[0m args\u001b[38;5;241m.\u001b[39mmodel \u001b[38;5;241m=\u001b[39m \u001b[38;5;124m'\u001b[39m\u001b[38;5;124mkcn\u001b[39m\u001b[38;5;124m'\u001b[39m\n\u001b[1;32m----> 4\u001b[0m err \u001b[38;5;241m=\u001b[39m \u001b[43mexperiment\u001b[49m\u001b[38;5;241;43m.\u001b[39;49m\u001b[43mrun_kcn\u001b[49m\u001b[43m(\u001b[49m\u001b[43margs\u001b[49m\u001b[43m)\u001b[49m\n\u001b[0;32m      5\u001b[0m \u001b[38;5;28mprint\u001b[39m(\u001b[38;5;124m'\u001b[39m\u001b[38;5;124mModel: \u001b[39m\u001b[38;5;132;01m{}\u001b[39;00m\u001b[38;5;124m, test error: \u001b[39m\u001b[38;5;132;01m{}\u001b[39;00m\u001b[38;5;130;01m\\n\u001b[39;00m\u001b[38;5;124m'\u001b[39m\u001b[38;5;241m.\u001b[39mformat(args\u001b[38;5;241m.\u001b[39mmodel, err))\n",
      "File \u001b[1;32mc:\\Users\\Orit\\Documents\\Project_B_Git\\kcn-torch-master\\experiment.py:54\u001b[0m, in \u001b[0;36mrun_kcn\u001b[1;34m(args)\u001b[0m\n\u001b[0;32m     47\u001b[0m num_train \u001b[38;5;241m=\u001b[39m num_total_train \u001b[38;5;241m-\u001b[39m args\u001b[38;5;241m.\u001b[39mvalidation_size\n\u001b[0;32m     49\u001b[0m \u001b[38;5;66;03m# initialize a kcn model\u001b[39;00m\n\u001b[0;32m     50\u001b[0m \u001b[38;5;66;03m# 1) the entire training set including validation points are recorded by the model and will \u001b[39;00m\n\u001b[0;32m     51\u001b[0m \u001b[38;5;66;03m# be looked up in neighbor searches\u001b[39;00m\n\u001b[0;32m     52\u001b[0m \u001b[38;5;66;03m# 2) the model will pre-compute neighbors for a training or validation instance to avoid repeated neighbor search\u001b[39;00m\n\u001b[0;32m     53\u001b[0m \u001b[38;5;66;03m# 3) if a data point appears in training set and validation set, its neighbors does not include itself\u001b[39;00m\n\u001b[1;32m---> 54\u001b[0m model \u001b[38;5;241m=\u001b[39m \u001b[43mkcn\u001b[49m\u001b[38;5;241;43m.\u001b[39;49m\u001b[43mKCN\u001b[49m\u001b[43m(\u001b[49m\u001b[43mtrainset\u001b[49m\u001b[43m,\u001b[49m\u001b[43m \u001b[49m\u001b[43margs\u001b[49m\u001b[43m)\u001b[49m\n\u001b[0;32m     55\u001b[0m model \u001b[38;5;241m=\u001b[39m model\u001b[38;5;241m.\u001b[39mto(args\u001b[38;5;241m.\u001b[39mdevice)\n\u001b[0;32m     57\u001b[0m loss_func \u001b[38;5;241m=\u001b[39m torch\u001b[38;5;241m.\u001b[39mnn\u001b[38;5;241m.\u001b[39mMSELoss(reduction\u001b[38;5;241m=\u001b[39m\u001b[38;5;124m'\u001b[39m\u001b[38;5;124mmean\u001b[39m\u001b[38;5;124m'\u001b[39m)\n",
      "File \u001b[1;32mc:\\Users\\Orit\\Documents\\Project_B_Git\\kcn-torch-master\\kcn.py:32\u001b[0m, in \u001b[0;36mKCN.__init__\u001b[1;34m(self, trainset, args)\u001b[0m\n\u001b[0;32m     30\u001b[0m     \u001b[38;5;28mself\u001b[39m\u001b[38;5;241m.\u001b[39mgraph_inputs \u001b[38;5;241m=\u001b[39m []\n\u001b[0;32m     31\u001b[0m     \u001b[38;5;28;01mfor\u001b[39;00m i \u001b[38;5;129;01min\u001b[39;00m \u001b[38;5;28mrange\u001b[39m(\u001b[38;5;28mself\u001b[39m\u001b[38;5;241m.\u001b[39mtrainset\u001b[38;5;241m.\u001b[39mcoords\u001b[38;5;241m.\u001b[39mshape[\u001b[38;5;241m0\u001b[39m]):\n\u001b[1;32m---> 32\u001b[0m         att_graph \u001b[38;5;241m=\u001b[39m \u001b[38;5;28;43mself\u001b[39;49m\u001b[38;5;241;43m.\u001b[39;49m\u001b[43mform_input_graph\u001b[49m\u001b[43m(\u001b[49m\u001b[38;5;28;43mself\u001b[39;49m\u001b[38;5;241;43m.\u001b[39;49m\u001b[43mtrainset\u001b[49m\u001b[38;5;241;43m.\u001b[39;49m\u001b[43mcoords\u001b[49m\u001b[43m[\u001b[49m\u001b[43mi\u001b[49m\u001b[43m]\u001b[49m\u001b[43m,\u001b[49m\u001b[43m \u001b[49m\u001b[38;5;28;43mself\u001b[39;49m\u001b[38;5;241;43m.\u001b[39;49m\u001b[43mtrainset\u001b[49m\u001b[38;5;241;43m.\u001b[39;49m\u001b[43mfeatures\u001b[49m\u001b[43m[\u001b[49m\u001b[43mi\u001b[49m\u001b[43m]\u001b[49m\u001b[43m,\u001b[49m\u001b[43m \u001b[49m\u001b[38;5;28;43mself\u001b[39;49m\u001b[38;5;241;43m.\u001b[39;49m\u001b[43mtrain_neighbors\u001b[49m\u001b[43m[\u001b[49m\u001b[43mi\u001b[49m\u001b[43m]\u001b[49m\u001b[43m)\u001b[49m\n\u001b[0;32m     33\u001b[0m         \u001b[38;5;28mself\u001b[39m\u001b[38;5;241m.\u001b[39mgraph_inputs\u001b[38;5;241m.\u001b[39mappend(att_graph)\n\u001b[0;32m     35\u001b[0m \u001b[38;5;66;03m# initialize model\u001b[39;00m\n\u001b[0;32m     36\u001b[0m \u001b[38;5;66;03m# input dimensions should be feature dimensions, a label dimension and an indicator dimension \u001b[39;00m\n",
      "File \u001b[1;32mc:\\Users\\Orit\\Documents\\Project_B_Git\\kcn-torch-master\\kcn.py:136\u001b[0m, in \u001b[0;36mKCN.form_input_graph\u001b[1;34m(self, coord, feature, neighbors)\u001b[0m\n\u001b[0;32m    131\u001b[0m adj \u001b[38;5;241m=\u001b[39m torch\u001b[38;5;241m.\u001b[39mfrom_numpy(kernel)\n\u001b[0;32m    132\u001b[0m \u001b[38;5;66;03m# one choice is to normalize the adjacency matrix \u001b[39;00m\n\u001b[0;32m    133\u001b[0m \u001b[38;5;66;03m#curr_adj = normalize_adj(curr_adj + np.eye(curr_adj.shape[0]))\u001b[39;00m\n\u001b[0;32m    134\u001b[0m \n\u001b[0;32m    135\u001b[0m \u001b[38;5;66;03m# create a graph from it\u001b[39;00m\n\u001b[1;32m--> 136\u001b[0m nz \u001b[38;5;241m=\u001b[39m \u001b[43madj\u001b[49m\u001b[38;5;241;43m.\u001b[39;49m\u001b[43mnonzero\u001b[49m\u001b[43m(\u001b[49m\u001b[43mas_tuple\u001b[49m\u001b[38;5;241;43m=\u001b[39;49m\u001b[38;5;28;43;01mTrue\u001b[39;49;00m\u001b[43m)\u001b[49m\n\u001b[0;32m    137\u001b[0m edges \u001b[38;5;241m=\u001b[39m torch\u001b[38;5;241m.\u001b[39mstack(nz, dim\u001b[38;5;241m=\u001b[39m\u001b[38;5;241m0\u001b[39m)\n\u001b[0;32m    138\u001b[0m edge_weights \u001b[38;5;241m=\u001b[39m adj[nz]\n",
      "\u001b[1;31mKeyboardInterrupt\u001b[0m: "
     ]
    }
   ],
   "source": [
    "args = argument.parse_opt()\n",
    "args.dataset = \"n32_e035_1arc_v3\"\n",
    "args.model = 'kcn'\n",
    "err = experiment.run_kcn(args)\n",
    "print('Model: {}, test error: {}\\n'.format(args.model, err))"
   ]
  },
  {
   "cell_type": "code",
   "execution_count": null,
   "metadata": {},
   "outputs": [],
   "source": []
  }
 ],
 "metadata": {
  "kernelspec": {
   "display_name": "kcn_env",
   "language": "python",
   "name": "python3"
  },
  "language_info": {
   "codemirror_mode": {
    "name": "ipython",
    "version": 3
   },
   "file_extension": ".py",
   "mimetype": "text/x-python",
   "name": "python",
   "nbconvert_exporter": "python",
   "pygments_lexer": "ipython3",
   "version": "3.9.13"
  }
 },
 "nbformat": 4,
 "nbformat_minor": 2
}
