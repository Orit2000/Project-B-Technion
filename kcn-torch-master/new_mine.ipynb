{
 "cells": [
  {
   "cell_type": "code",
   "execution_count": 1,
   "id": "d0b2730a",
   "metadata": {},
   "outputs": [
    {
     "data": {
      "application/javascript": "IPython.notebook.set_autosave_interval(180000)"
     },
     "metadata": {},
     "output_type": "display_data"
    },
    {
     "name": "stdout",
     "output_type": "stream",
     "text": [
      "Autosaving every 180 seconds\n"
     ]
    }
   ],
   "source": [
    "import numpy as np\n",
    "import pandas as pd\n",
    "from matplotlib import pyplot as plt\n",
    "import dt2_data\n",
    "import argument\n",
    "import experiment\n",
    "%load_ext autoreload\n",
    "%autoreload 2\n",
    "%reload_ext autoreload\n",
    "%autosave 180"
   ]
  },
  {
   "cell_type": "code",
   "execution_count": 21,
   "id": "05b13be1",
   "metadata": {},
   "outputs": [],
   "source": [
    "import torch\n",
    "torch.cuda.empty_cache()"
   ]
  },
  {
   "cell_type": "code",
   "execution_count": 2,
   "id": "2f08e36e",
   "metadata": {},
   "outputs": [
    {
     "name": "stdout",
     "output_type": "stream",
     "text": [
      "device: cuda\n",
      "n32_e035_1arc_v3\n",
      "50\n",
      "n32_e035_1arc_v3\n",
      "from run_kcn: n32_e035_1arc_v3\n",
      "[DEBUG] Using dt2_file path: ./datasets/n32_e035_1arc_v3.dt2\n",
      "Loading cached sets...\n",
      "The n32_e035_1arc_v3 dataset has 103737 training instances and 25935 test instances.\n"
     ]
    },
    {
     "name": "stderr",
     "output_type": "stream",
     "text": [
      "100%|██████████| 5187/5187 [01:25<00:00, 60.73it/s]\n"
     ]
    },
    {
     "name": "stdout",
     "output_type": "stream",
     "text": [
      "Epoch: 0, train error: 4.852838518690599, validation error: 0.07044525444507599\n"
     ]
    },
    {
     "name": "stderr",
     "output_type": "stream",
     "text": [
      "100%|██████████| 5187/5187 [01:27<00:00, 59.38it/s]\n"
     ]
    },
    {
     "name": "stdout",
     "output_type": "stream",
     "text": [
      "Epoch: 1, train error: 0.07313327764324142, validation error: 0.0668676346540451\n"
     ]
    },
    {
     "name": "stderr",
     "output_type": "stream",
     "text": [
      "100%|██████████| 5187/5187 [01:18<00:00, 65.89it/s]\n"
     ]
    },
    {
     "name": "stdout",
     "output_type": "stream",
     "text": [
      "Epoch: 2, train error: 0.06959968634534729, validation error: 0.06432805955410004\n"
     ]
    },
    {
     "name": "stderr",
     "output_type": "stream",
     "text": [
      "100%|██████████| 5187/5187 [00:51<00:00, 100.83it/s]\n"
     ]
    },
    {
     "name": "stdout",
     "output_type": "stream",
     "text": [
      "Epoch: 3, train error: 0.06019129812872209, validation error: 0.054776087403297424\n"
     ]
    },
    {
     "name": "stderr",
     "output_type": "stream",
     "text": [
      "100%|██████████| 5187/5187 [00:17<00:00, 293.57it/s]\n"
     ]
    },
    {
     "name": "stdout",
     "output_type": "stream",
     "text": [
      "Epoch: 4, train error: 0.05745508049086673, validation error: 0.05561288073658943\n"
     ]
    },
    {
     "name": "stderr",
     "output_type": "stream",
     "text": [
      " 38%|███▊      | 1962/5187 [00:06<00:11, 293.09it/s]\n"
     ]
    },
    {
     "ename": "KeyboardInterrupt",
     "evalue": "",
     "output_type": "error",
     "traceback": [
      "\u001b[0;31m---------------------------------------------------------------------------\u001b[0m",
      "\u001b[0;31mKeyboardInterrupt\u001b[0m                         Traceback (most recent call last)",
      "Cell \u001b[0;32mIn[2], line 8\u001b[0m\n\u001b[1;32m      6\u001b[0m \u001b[38;5;28mprint\u001b[39m(args\u001b[38;5;241m.\u001b[39mdataset)\n\u001b[1;32m      7\u001b[0m args\u001b[38;5;241m.\u001b[39mmodel \u001b[38;5;241m=\u001b[39m \u001b[38;5;124m'\u001b[39m\u001b[38;5;124mkcn\u001b[39m\u001b[38;5;124m'\u001b[39m\n\u001b[0;32m----> 8\u001b[0m err \u001b[38;5;241m=\u001b[39m experiment\u001b[38;5;241m.\u001b[39mrun_kcn(args)\n\u001b[1;32m      9\u001b[0m \u001b[38;5;28mprint\u001b[39m(\u001b[38;5;124m'\u001b[39m\u001b[38;5;124mModel: \u001b[39m\u001b[38;5;132;01m{}\u001b[39;00m\u001b[38;5;124m, test error: \u001b[39m\u001b[38;5;132;01m{}\u001b[39;00m\u001b[38;5;130;01m\\n\u001b[39;00m\u001b[38;5;124m'\u001b[39m\u001b[38;5;241m.\u001b[39mformat(args\u001b[38;5;241m.\u001b[39mmodel, err))\n",
      "File \u001b[0;32m~/Project-B-Technion/kcn-torch-master/experiment.py:84\u001b[0m, in \u001b[0;36mrun_kcn\u001b[0;34m(args)\u001b[0m\n\u001b[1;32m     81\u001b[0m batch_coords, batch_features, batch_y \u001b[38;5;241m=\u001b[39m model\u001b[38;5;241m.\u001b[39mtrainset[batch_ind]\n\u001b[1;32m     83\u001b[0m \u001b[38;5;66;03m# make predictions and compute the average loss\u001b[39;00m\n\u001b[0;32m---> 84\u001b[0m pred \u001b[38;5;241m=\u001b[39m model(batch_coords, batch_features, batch_ind)\n\u001b[1;32m     85\u001b[0m loss \u001b[38;5;241m=\u001b[39m loss_func(pred, batch_y\u001b[38;5;241m.\u001b[39mto(args\u001b[38;5;241m.\u001b[39mdevice))\n\u001b[1;32m     87\u001b[0m \u001b[38;5;66;03m# update parameters\u001b[39;00m\n",
      "File \u001b[0;32m~/anaconda3/lib/python3.12/site-packages/torch/nn/modules/module.py:1747\u001b[0m, in \u001b[0;36mModule._wrapped_call_impl\u001b[0;34m(self, *args, **kwargs)\u001b[0m\n\u001b[1;32m   1744\u001b[0m             tracing_state\u001b[38;5;241m.\u001b[39mpop_scope()\n\u001b[1;32m   1745\u001b[0m     \u001b[38;5;28;01mreturn\u001b[39;00m result\n\u001b[0;32m-> 1747\u001b[0m \u001b[38;5;28;01mdef\u001b[39;00m \u001b[38;5;21m_wrapped_call_impl\u001b[39m(\u001b[38;5;28mself\u001b[39m, \u001b[38;5;241m*\u001b[39margs, \u001b[38;5;241m*\u001b[39m\u001b[38;5;241m*\u001b[39mkwargs):\n\u001b[1;32m   1748\u001b[0m     \u001b[38;5;28;01mif\u001b[39;00m \u001b[38;5;28mself\u001b[39m\u001b[38;5;241m.\u001b[39m_compiled_call_impl \u001b[38;5;129;01mis\u001b[39;00m \u001b[38;5;129;01mnot\u001b[39;00m \u001b[38;5;28;01mNone\u001b[39;00m:\n\u001b[1;32m   1749\u001b[0m         \u001b[38;5;28;01mreturn\u001b[39;00m \u001b[38;5;28mself\u001b[39m\u001b[38;5;241m.\u001b[39m_compiled_call_impl(\u001b[38;5;241m*\u001b[39margs, \u001b[38;5;241m*\u001b[39m\u001b[38;5;241m*\u001b[39mkwargs)  \u001b[38;5;66;03m# type: ignore[misc]\u001b[39;00m\n",
      "\u001b[0;31mKeyboardInterrupt\u001b[0m: "
     ]
    }
   ],
   "source": [
    "args = argument.parse_opt()\n",
    "args.keep_n = 0.005*2\n",
    "print(args.dataset)\n",
    "print(args.n_neighbors)\n",
    "args.dataset = \"n32_e035_1arc_v3\"\n",
    "print(args.dataset)\n",
    "args.model = 'kcn'\n",
    "err = experiment.run_kcn(args)\n",
    "print('Model: {}, test error: {}\\n'.format(args.model, err))\n"
   ]
  }
 ],
 "metadata": {
  "kernelspec": {
   "display_name": "base",
   "language": "python",
   "name": "python3"
  },
  "language_info": {
   "codemirror_mode": {
    "name": "ipython",
    "version": 3
   },
   "file_extension": ".py",
   "mimetype": "text/x-python",
   "name": "python",
   "nbconvert_exporter": "python",
   "pygments_lexer": "ipython3",
   "version": "3.12.4"
  }
 },
 "nbformat": 4,
 "nbformat_minor": 5
}
