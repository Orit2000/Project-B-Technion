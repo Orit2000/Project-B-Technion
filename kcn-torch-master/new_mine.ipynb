{
 "cells": [
  {
   "cell_type": "code",
   "execution_count": 4,
   "id": "d0b2730a",
   "metadata": {},
   "outputs": [
    {
     "name": "stdout",
     "output_type": "stream",
     "text": [
      "The autoreload extension is already loaded. To reload it, use:\n",
      "  %reload_ext autoreload\n"
     ]
    },
    {
     "data": {
      "application/javascript": "IPython.notebook.set_autosave_interval(180000)"
     },
     "metadata": {},
     "output_type": "display_data"
    },
    {
     "name": "stdout",
     "output_type": "stream",
     "text": [
      "Autosaving every 180 seconds\n"
     ]
    }
   ],
   "source": [
    "import numpy as np\n",
    "import pandas as pd\n",
    "from matplotlib import pyplot as plt\n",
    "import dt2_data\n",
    "import argument\n",
    "import experiment\n",
    "%load_ext autoreload\n",
    "%autoreload 2\n",
    "%reload_ext autoreload\n",
    "%autosave 180"
   ]
  },
  {
   "cell_type": "code",
   "execution_count": null,
   "id": "2f08e36e",
   "metadata": {},
   "outputs": [
    {
     "name": "stdout",
     "output_type": "stream",
     "text": [
      "device: cuda\n",
      "n32_e035_1arc_v3\n",
      "100\n",
      "n32_e035_1arc_v3\n",
      "from run_kcn: n32_e035_1arc_v3\n",
      "[DEBUG] Using dt2_file path: ./datasets/n32_e035_1arc_v3.dt2\n",
      "I am reading!\n",
      "Features shape:(12967201, 3)\n",
      "dataset exists!\n",
      "\n",
      " Train Dataset Summary\n",
      "➤ Number of points: 2074752\n",
      "➤ Coords shape: torch.Size([2074752, 2])\n",
      "➤ Feature shape: torch.Size([2074752, 3])\n",
      "➤ Label shape: torch.Size([2074752, 1])\n",
      "➤ Feature mean/std (first 5 dims):\n",
      "   mu = [-0.00059026  0.00083391  0.0003592 ]\n",
      "  std = [0.9996206  1.0001299  0.99992883]\n",
      "➤ Elevation min/max: -371.00 / 1240.00\n",
      "➤ Lat range: 32.0001 - 33.0001\n",
      "➤ Lon range: 34.9999 - 35.9999\n",
      "\n",
      " Test Dataset Summary\n",
      "➤ Number of points: 518688\n",
      "➤ Coords shape: torch.Size([518688, 2])\n",
      "➤ Feature shape: torch.Size([518688, 3])\n",
      "➤ Label shape: torch.Size([518688, 1])\n",
      "➤ Feature mean/std (first 5 dims):\n",
      "   mu = [ 0.00011615  0.00064913 -0.00104015]\n",
      "  std = [0.99924487 1.0008186  1.0006748 ]\n",
      "➤ Elevation min/max: -370.00 / 1237.00\n",
      "➤ Lat range: 32.0001 - 33.0001\n",
      "➤ Lon range: 34.9999 - 35.9999\n",
      "The n32_e035_1arc_v3 dataset has 2074752 training instances and 518688 test instances.\n"
     ]
    }
   ],
   "source": [
    "args = argument.parse_opt()\n",
    "args.n_neighbors = 100\n",
    "print(args.dataset)\n",
    "print(args.n_neighbors)\n",
    "args.dataset = \"n32_e035_1arc_v3\"\n",
    "print(args.dataset)\n",
    "args.model = 'kcn'\n",
    "err = experiment.run_kcn(args)\n",
    "print('Model: {}, test error: {}\\n'.format(args.model, err))\n"
   ]
  }
 ],
 "metadata": {
  "kernelspec": {
   "display_name": "base",
   "language": "python",
   "name": "python3"
  },
  "language_info": {
   "codemirror_mode": {
    "name": "ipython",
    "version": 3
   },
   "file_extension": ".py",
   "mimetype": "text/x-python",
   "name": "python",
   "nbconvert_exporter": "python",
   "pygments_lexer": "ipython3",
   "version": "3.12.4"
  }
 },
 "nbformat": 4,
 "nbformat_minor": 5
}
